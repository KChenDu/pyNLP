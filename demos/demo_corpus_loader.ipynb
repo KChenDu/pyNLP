{
 "cells": [
  {
   "cell_type": "code",
   "id": "initial_id",
   "metadata": {
    "collapsed": true,
    "ExecuteTime": {
     "end_time": "2024-08-09T16:51:15.393128Z",
     "start_time": "2024-08-09T16:51:15.381892Z"
    }
   },
   "source": [
    "from pathlib import Path\n",
    "from test_utility import test_data_path\n",
    "from corpus_loader import convert2SentenceList\n",
    "\n",
    "\n",
    "def my_cws_corpus() -> Path:\n",
    "    data_root = test_data_path()\n",
    "    corpus_path = data_root / 'my_cws_corpus.txt'\n",
    "    if not corpus_path.is_file():\n",
    "        with open(corpus_path, 'w', encoding='utf-8') as out:\n",
    "            out.write('''商品 和 服务\n",
    "商品 和服 物美价廉\n",
    "服务 和 货币''')\n",
    "    return corpus_path\n",
    "\n",
    "\n",
    "def load_cws_corpus(corpus_path: Path) -> list[list[str]]:\n",
    "    return convert2SentenceList(corpus_path)\n",
    "\n",
    "\n",
    "corpus_path = my_cws_corpus()\n",
    "sents = load_cws_corpus(corpus_path)\n",
    "for sent in sents:\n",
    "    print(sent)"
   ],
   "outputs": [
    {
     "name": "stdout",
     "output_type": "stream",
     "text": [
      "['商品', '和', '服务']\n",
      "['商品', '和服', '物美价廉']\n",
      "['服务', '和', '货币']\n"
     ]
    }
   ],
   "execution_count": 1
  }
 ],
 "metadata": {
  "kernelspec": {
   "display_name": "Python 3",
   "language": "python",
   "name": "python3"
  },
  "language_info": {
   "codemirror_mode": {
    "name": "ipython",
    "version": 2
   },
   "file_extension": ".py",
   "mimetype": "text/x-python",
   "name": "python",
   "nbconvert_exporter": "python",
   "pygments_lexer": "ipython2",
   "version": "2.7.6"
  }
 },
 "nbformat": 4,
 "nbformat_minor": 5
}
