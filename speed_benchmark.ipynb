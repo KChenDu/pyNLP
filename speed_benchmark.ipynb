{
 "cells": [
  {
   "cell_type": "code",
   "id": "initial_id",
   "metadata": {
    "collapsed": true,
    "ExecuteTime": {
     "end_time": "2024-08-08T19:39:33.891381Z",
     "start_time": "2024-08-08T19:39:33.863289Z"
    }
   },
   "source": [
    "from time import time\n",
    "from IOUtil import load_dictionary\n",
    "from segmentation import fully_segment, forward_segment, backward_segment, bidirectional_segment\n",
    "\n",
    "\n",
    "def evaluate_speed(segment, text: str, dic: set[str]) -> float:\n",
    "    start_time: float = time()\n",
    "    for _ in range(pressure):\n",
    "        segment(text, dic)\n",
    "    print(f'{len(text) * pressure / 10000. / (time() - start_time):.2f} 万字/秒')\n",
    "\n",
    "\n",
    "text: str = \"江西鄱阳湖干枯，中国最大淡水湖变成大草原\"\n",
    "pressure: int = 10000\n",
    "dic: set = load_dictionary()"
   ],
   "outputs": [],
   "execution_count": 3
  },
  {
   "metadata": {
    "ExecuteTime": {
     "end_time": "2024-08-08T19:39:34.451600Z",
     "start_time": "2024-08-08T19:39:33.892384Z"
    }
   },
   "cell_type": "code",
   "source": [
    "evaluate_speed(fully_segment, text, dic)\n",
    "evaluate_speed(forward_segment, text, dic)\n",
    "evaluate_speed(backward_segment, text, dic)\n",
    "evaluate_speed(bidirectional_segment, text, dic)"
   ],
   "id": "9e5888c0315663d0",
   "outputs": [
    {
     "name": "stdout",
     "output_type": "stream",
     "text": [
      "120.48 万字/秒\n",
      "227.27 万字/秒\n",
      "189.26 万字/秒\n",
      "101.47 万字/秒\n"
     ]
    }
   ],
   "execution_count": 4
  }
 ],
 "metadata": {
  "kernelspec": {
   "display_name": "Python 3",
   "language": "python",
   "name": "python3"
  },
  "language_info": {
   "codemirror_mode": {
    "name": "ipython",
    "version": 2
   },
   "file_extension": ".py",
   "mimetype": "text/x-python",
   "name": "python",
   "nbconvert_exporter": "python",
   "pygments_lexer": "ipython2",
   "version": "2.7.6"
  }
 },
 "nbformat": 4,
 "nbformat_minor": 5
}
