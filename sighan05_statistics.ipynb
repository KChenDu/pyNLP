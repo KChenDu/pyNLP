{
 "cells": [
  {
   "cell_type": "code",
   "id": "initial_id",
   "metadata": {
    "collapsed": true,
    "ExecuteTime": {
     "end_time": "2024-08-09T05:31:55.258757Z",
     "start_time": "2024-08-09T05:31:52.142805Z"
    }
   },
   "source": [
    "from pathlib import Path\n",
    "from collections import Counter\n",
    "from re import compile\n",
    "from test_utility import ensure_data\n",
    "\n",
    "\n",
    "def count_word_freq(path: Path) -> tuple[Counter, int, int]:\n",
    "    f = Counter()\n",
    "    with open(path, encoding='utf-8') as src:\n",
    "        pattern = compile(\"\\\\s+\")\n",
    "        for line in src:\n",
    "            for word in pattern.split(line.strip()):\n",
    "                f[word] += 1\n",
    "    return f, sum(f.values()), sum(len(w) * f[w] for w in f.keys())\n",
    "\n",
    "\n",
    "def count_corpus(train_path: Path, test_path: Path) -> tuple[float, float, float, float, float, float, float, float, float]:\n",
    "    train_counter, train_freq, train_chars = count_word_freq(train_path)\n",
    "    test_counter, test_freq, test_chars = count_word_freq(test_path)\n",
    "    test_oov = sum(test_counter[w] for w in test_counter.keys() - train_counter.keys())\n",
    "    return train_chars / 10000, len(train_counter) / 10000, train_freq / 10000, train_chars / train_freq, test_chars / 10000, len(test_counter) / 10000, test_freq / 10000, test_chars / test_freq, test_oov / test_freq * 100\n",
    "\n",
    "\n",
    "sighan05 = ensure_data('icwb2-data', 'http://sighan.cs.uchicago.edu/bakeoff2005/data/icwb2-data.zip')\n",
    "\n",
    "print('|语料库|字符数|词语种数|总词频|平均词长|字符数|词语种数|总词频|平均词长|OOV|')\n",
    "\n",
    "for data in 'pku', 'msr', 'as', 'cityu':\n",
    "    train_path = sighan05 / 'training' / f'{data}_training.utf8'\n",
    "    test_path = sighan05 / 'gold' / (f'{data}_testing_gold.utf8' if data == 'as' else f'{data}_test_gold.utf8')\n",
    "    print('|%s|%.0f万|%.0f万|%.0f万|%.1f|%.0f万|%.0f万|%.0f万|%.1f|%.2f%%|' % ((data.upper(),) + count_corpus(train_path, test_path)))"
   ],
   "outputs": [
    {
     "name": "stdout",
     "output_type": "stream",
     "text": [
      "|语料库|字符数|词语种数|总词频|平均词长|字符数|词语种数|总词频|平均词长|OOV|\n",
      "|PKU|183万|6万|111万|1.6|17万|1万|10万|1.7|5.75%|\n",
      "|MSR|405万|9万|237万|1.7|18万|1万|11万|1.7|2.65%|\n",
      "|AS|837万|14万|545万|1.5|20万|2万|12万|1.6|4.33%|\n",
      "|CITYU|240万|7万|146万|1.7|7万|1万|4万|1.7|7.40%|\n"
     ]
    }
   ],
   "execution_count": 1
  }
 ],
 "metadata": {
  "kernelspec": {
   "display_name": "Python 3",
   "language": "python",
   "name": "python3"
  },
  "language_info": {
   "codemirror_mode": {
    "name": "ipython",
    "version": 2
   },
   "file_extension": ".py",
   "mimetype": "text/x-python",
   "name": "python",
   "nbconvert_exporter": "python",
   "pygments_lexer": "ipython2",
   "version": "2.7.6"
  }
 },
 "nbformat": 4,
 "nbformat_minor": 5
}
